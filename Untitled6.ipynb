{
 "cells": [
  {
   "cell_type": "markdown",
   "id": "7562702b-5750-49f3-92f3-15da1ef8fa9d",
   "metadata": {},
   "source": [
    "# Q.(1)  What is Python, and why is it popular ? \n",
    "  ans.   Python is a high-level, easy-to-learn programming language known for its readability and versatility. It is popular due to its wide range of               applications, large library ecosystem, and strong community support, making it ideal for beginners and professionals alike."
   ]
  },
  {
   "cell_type": "markdown",
   "id": "6f3ba0b1-3450-497b-bb3b-d8654d0fbce6",
   "metadata": {},
   "source": [
    "# Q.(2)  What is an interpreter in Python ? \n",
    "  ans.   An interpreter in Python is a program that executes Python code line by line, converting it into machine code at runtime. \n",
    "         Unlike a compiler, which translates the entire program at once, the interpreter allows for interactive execution and quick testing of code. \n",
    "         This makes Python easy to debug and test incrementally."
   ]
  },
  {
   "cell_type": "markdown",
   "id": "1e1ae5c3-ce1d-40da-be36-a6dfde4b5ab0",
   "metadata": {},
   "source": [
    "# Q.(3)  What are pre-defined keywords in Python ?\n",
    "  ans.   Pre-defined keywords in Python are reserved words that have special meaning and cannot be used as variable names. These keywords define the                syntax and structure of the Python language, such as if, else, for, while, def, and class. There are 35 such keywords in Python, which are                 essential for writing Python programs."
   ]
  },
  {
   "cell_type": "markdown",
   "id": "b31614e5-3874-4268-8a50-d324be742f06",
   "metadata": {},
   "source": [
    "# Q.(4)  Can keywords be used as variable names ?\n",
    "  ans.   No, keywords cannot be used as variable names in Python because they have predefined meanings and are reserved for specific functions in the            language. Attempting to use a keyword as a variable name will result in a syntax error."
   ]
  },
  {
   "cell_type": "markdown",
   "id": "8f94a632-8fbf-4443-a885-8967218f6b1f",
   "metadata": {},
   "source": [
    "# Q.(5)  What is mutability in Python ?\n",
    "  ans.  Mutability in Python refers to the ability of an object to be modified after it is created. Mutable objects, like lists and dictionaries, can           be changed, while immutable objects, like strings and tuples, cannot be altered once they are assigned."
   ]
  },
  {
   "cell_type": "markdown",
   "id": "815c9edb-71fe-428f-8b67-b63aa423128a",
   "metadata": {},
   "source": [
    "# Q.(6)  Why are lists mutable, but tuples are immutable ?\n",
    "  ans.   Lists are mutable because they are designed to allow dynamic changes, such as adding, removing, or modifying elements. Tuples are immutable to          provide safety and efficiency, ensuring their data remains constant and can be used as keys in dictionaries."
   ]
  },
  {
   "cell_type": "markdown",
   "id": "65e8938a-2b1f-415f-8672-470c7298c51e",
   "metadata": {},
   "source": [
    "# Q.(7)  What is the difference between “==” and “is” operators in Python ?\n",
    "  Ans.   The == operator checks if the values of two objects are equal, while the is operator checks if two objects reference the same memory location           (i.e., whether they are the same object).\n",
    "\n",
    "\n",
    "\n"
   ]
  },
  {
   "cell_type": "markdown",
   "id": "e7607e41-ef6d-4a5c-8e9c-92e20392ac06",
   "metadata": {},
   "source": [
    "# Q(8)  What are logical operators in Python ?\n",
    "  Ans.  Logical operators in Python are used to combine conditional statements. The main logical operators are and, or, and not, which evaluate                 expressions based on Boolean values."
   ]
  },
  {
   "cell_type": "markdown",
   "id": "1f776f9d-2a45-408b-8a88-ab26b70a40ea",
   "metadata": {},
   "source": [
    "# Q.(9)  What is type casting in Python ? \n",
    "  Ans.   Type casting in Python is the conversion of one data type to another. It can be done explicitly using functions like int(), float(), or str(),          allowing you to convert values between types, such as converting a string to an integer or a float to an integer. Python also performs                  implicit type casting, automatically converting data types when needed, like when adding an integer to a float."
   ]
  },
  {
   "cell_type": "markdown",
   "id": "044704e6-d34b-4bd8-afd5-e9716545db55",
   "metadata": {},
   "source": [
    "# Q.(10) What is the difference between implicit and explicit type casting ?\n",
    "  Ans.   Implicit type casting (also called type coercion) is done automatically by Python, where it converts a smaller data type to a larger one, such          as converting an integer to a float during arithmetic operations. \n",
    "  \n",
    "        Explicit type casting requires the programmer to manually convert a data type using functions like int(), float(), or str(), for example,               converting a string to an integer."
   ]
  },
  {
   "cell_type": "markdown",
   "id": "9e85744d-f6c2-4501-9259-066595deba5b",
   "metadata": {},
   "source": [
    "# Q.(11)  What is the purpose of conditional statements in Python ?\n",
    "  Ans.    The purpose of conditional statements in Python is to control the flow of execution based on certain conditions. They allow the program to              execute different blocks of code depending on whether a condition is true or false, using statements like if, elif, and else.\n",
    "\n",
    "\n",
    "\n"
   ]
  },
  {
   "cell_type": "markdown",
   "id": "4b7d7a9f-8f38-4209-a712-0f22cb5d2f74",
   "metadata": {},
   "source": [
    "# Q.(12)  How does the elif statement work ?\n",
    "  Ans.    The elif (short for \"else if\") statement in Python is used to check multiple conditions in a sequence. It follows an if statement and allows            you to test additional conditions if the previous if or elif conditions are false, ensuring only one block of code is executed based on the             first true condition."
   ]
  },
  {
   "cell_type": "markdown",
   "id": "beb858c7-058a-4334-87f7-1f7850a43cab",
   "metadata": {},
   "source": [
    "# Q.(13)  What is the difference between for and while loops ?\n",
    "  Ans.     The for loop in Python is used for iterating over a sequence (like a list, tuple, or range) for a specific number of times, making it ideal             for known iterations.\n",
    "\n",
    "          The while loop, on the other hand, continues to execute as long as a specified condition is true, and is used when the number of iterations             is not known in advance."
   ]
  },
  {
   "cell_type": "markdown",
   "id": "35116856-ec7d-453e-a583-edfcda61a974",
   "metadata": {},
   "source": [
    "# Q.(14)  Describe a scenario where a while loop is more suitable than a for loop.\n",
    "  Ans.     A while loop is more suitable when the number of iterations is unknown and depends on a condition, like waiting for user input or checking              for a specific event. For example, repeatedly asking a user for valid input until they provide it."
   ]
  },
  {
   "cell_type": "code",
   "execution_count": null,
   "id": "1f9c9d99-f7b5-426f-884b-3ec9e6fcb7c4",
   "metadata": {},
   "outputs": [],
   "source": []
  }
 ],
 "metadata": {
  "kernelspec": {
   "display_name": "Python 3 (ipykernel)",
   "language": "python",
   "name": "python3"
  },
  "language_info": {
   "codemirror_mode": {
    "name": "ipython",
    "version": 3
   },
   "file_extension": ".py",
   "mimetype": "text/x-python",
   "name": "python",
   "nbconvert_exporter": "python",
   "pygments_lexer": "ipython3",
   "version": "3.12.4"
  }
 },
 "nbformat": 4,
 "nbformat_minor": 5
}
