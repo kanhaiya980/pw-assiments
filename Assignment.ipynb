{
 "cells": [
  {
   "cell_type": "markdown",
   "id": "668b7d17-fa49-4ed5-9b6b-cf1127719b6f",
   "metadata": {},
   "source": [
    "# : Theory Questions:"
   ]
  },
  {
   "cell_type": "markdown",
   "id": "4e8d4cd7-a20b-47f2-b5f9-88ee0e7c5262",
   "metadata": {},
   "source": [
    "## Q.(1)  What is the difference between a function and a method in Python?"
   ]
  },
  {
   "cell_type": "markdown",
   "id": "0fc93b45-f90b-4064-aa12-cc6e79210112",
   "metadata": {},
   "source": [
    "### Ans.(1) In Python, a function is a block of code that is defined independently and can be called directly. A method is a function that is associated               with an object or class and is called on an instance of that object, typically using the self parameter to refer to the instance.\n",
    "\n",
    "\n",
    "\n"
   ]
  },
  {
   "cell_type": "markdown",
   "id": "807c0113-56ac-44fd-9afe-07332aeda113",
   "metadata": {},
   "source": [
    "## Q.(2)  Explain the concept of function arguments and parameters in Python."
   ]
  },
  {
   "cell_type": "markdown",
   "id": "00581dcc-fd6b-4f24-9be5-4388f17b5a8c",
   "metadata": {},
   "source": [
    "### Ans.(2) In Python, parameters are variables listed in the function definition, while arguments are the values passed to the function when it is                    called. Parameters define what values the function expects, and arguments provide the actual data for those parameters."
   ]
  },
  {
   "cell_type": "markdown",
   "id": "21f32e63-730e-45f9-b583-fca1ff76892f",
   "metadata": {},
   "source": [
    "## Q.(3) What are the different ways to define and call a function in Python?"
   ]
  },
  {
   "cell_type": "markdown",
   "id": "4254692e-316d-44d5-8b1f-e8ba694d2c80",
   "metadata": {},
   "source": [
    "### Ans.(3) In Python, functions can be defined using the def keyword, optionally with parameters. They can be called by their name followed by arguments in parentheses. Functions can also return values with the return statement. Additionally, anonymous functions can be created using lambda expressions.\n",
    "\n",
    "\n",
    "\n"
   ]
  },
  {
   "cell_type": "markdown",
   "id": "640bd00e-ab8a-4002-a9a5-ed719f506252",
   "metadata": {},
   "source": [
    "## Q. (4)  What is the purpose of the `return` statement in a Python function ?"
   ]
  },
  {
   "cell_type": "markdown",
   "id": "14594824-70cd-4425-8136-967219c1b23e",
   "metadata": {},
   "source": [
    "### Ans.(4) The return statement in a Python function is used to exit the function and pass a value back to the caller. \n",
    "            It allows the function to provide a result, which can then be stored or used in further operations. If no return is specified, \n",
    "           the function returns None by default. The return statement ends the function's execution.\n",
    "\n",
    "\n",
    "\n"
   ]
  },
  {
   "cell_type": "markdown",
   "id": "c69ac146-fb4d-4b93-bff4-c6668a3e40ea",
   "metadata": {},
   "source": [
    "## Q.(5) . What are iterators in Python and how do they differ from iterables?"
   ]
  },
  {
   "cell_type": "markdown",
   "id": "4dc13263-dc4e-4d30-bc74-54fd57b11e56",
   "metadata": {},
   "source": [
    "### Ans.(5) In Python, an iterator is an object that implements the __iter__() and __next__() methods, allowing it to traverse through a sequence of values one at a time. An iterable, on the other hand, is any object that can return an iterator, typically by implementing the __iter__() method, such as lists or tuples. The key difference is that an iterable is a collection you can loop over, while an iterator is the actual object that performs the iteration. An iterator keeps track of its state and remembers the position of the last item accessed.\n",
    "\n",
    "\n",
    "\n"
   ]
  },
  {
   "cell_type": "markdown",
   "id": "72adbff9-3dff-45ad-aa1b-e7846645db0d",
   "metadata": {},
   "source": [
    "## Q.(6) Explain the concept of generators in Python and how they are defined. "
   ]
  },
  {
   "cell_type": "markdown",
   "id": "a5acc8c6-7b26-49f9-b749-112fdd1ee87a",
   "metadata": {},
   "source": [
    "### Ans.(6) Generators in Python are a special type of iterable that allow lazy evaluation, meaning they generate values on the fly as needed, rather than storing them in memory. They are defined using a function with the yield keyword, which returns a value and suspends the function's state, allowing it to resume from where it left off when called again. This makes generators memory-efficient, especially for large datasets. Unlike regular functions, they do not return a value all at once but yield multiple values over time. Generators can be iterated over just like other iterables.\n",
    "\n",
    "\n",
    "\n"
   ]
  },
  {
   "cell_type": "markdown",
   "id": "0a81e7c4-64ed-43dd-8a3e-8b2cc26fb45b",
   "metadata": {},
   "source": [
    "## Q(7) What are the advantages of using generators over regular functions ? "
   ]
  },
  {
   "cell_type": "markdown",
   "id": "3dda5d9f-5127-4acc-abb9-4ba17dbadc7f",
   "metadata": {},
   "source": [
    "### Ans.(7) Generators offer several advantages over regular functions:\n",
    "\n",
    "Memory efficiency: They generate values one at a time and do not store the entire sequence in memory, making them ideal for large datasets.\n",
    "Lazy evaluation: Values are produced only when needed, which can improve performance in certain scenarios.\n",
    "State retention: A generator function preserves its state between calls, allowing it to resume execution without recomputing previous steps.\n",
    "Improved performance: Generators avoid the overhead of creating and maintaining large data structures.\n",
    "Simpler syntax: They simplify code when working with sequences of data, as they eliminate the need for explicit iteration and state management."
   ]
  },
  {
   "cell_type": "markdown",
   "id": "25d8365d-7b55-4a97-a6f4-b4d05ffa7b16",
   "metadata": {},
   "source": [
    "## Q.(8)  What is a lambda function in Python and when is it typically used?"
   ]
  },
  {
   "cell_type": "markdown",
   "id": "82ceef55-4d74-4372-938c-ecf9b23c5f37",
   "metadata": {},
   "source": [
    "### Ans.(8) A lambda function in Python is a small, anonymous function defined using the lambda keyword, followed by parameters, a colon, and an expression. It can take any number of arguments but only has one expression, which is evaluated and returned. Lambda functions are typically used for short, throwaway operations, such as in functions like map(), filter(), or sorted(). They are convenient when a simple function is needed without the overhead of a full function definition. Lambda functions are often used in places where functions are passed as arguments.\n",
    "\n",
    "\n",
    "\n"
   ]
  },
  {
   "cell_type": "markdown",
   "id": "4e47eebe-72cf-433f-b290-5bc6250cfee8",
   "metadata": {},
   "source": [
    "## Q.(9) Explain the purpose and usage of the `map()` function in Python."
   ]
  },
  {
   "cell_type": "markdown",
   "id": "1e2e900d-e5fa-4b96-8f40-bc673346bf93",
   "metadata": {},
   "source": [
    "### Ans.(9) The map() function in Python applies a given function to each item of an iterable (such as a list or tuple) and returns an iterator that produces the results. It takes two arguments: the function to apply and the iterable. The map() function is commonly used for transforming or processing data efficiently without the need for explicit loops. It supports multiple iterables, applying the function to corresponding elements. The result is an iterator, which can be converted to a list or other collection type if needed."
   ]
  },
  {
   "cell_type": "markdown",
   "id": "efe6f598-e0bf-4a8a-be5d-efdeb1377908",
   "metadata": {},
   "source": [
    "## Q.(10)  What is the difference between `map()`, `reduce()`, and `filter()` functions in Python?"
   ]
  },
  {
   "cell_type": "markdown",
   "id": "e086e23d-3176-4c6d-968f-4f17ed542e23",
   "metadata": {},
   "source": [
    "### Ans.(10) The map() function applies a given function to each item of an iterable and returns an iterator with the results, transforming the elements individually. The reduce() function, from the functools module, applies a binary function cumulatively to the items of an iterable, reducing the iterable to a single value (e.g., summing or multiplying elements). The filter() function applies a given function to each item of an iterable, but it only returns those elements for which the function evaluates to True. While map() and filter() produce iterables of the same length as the input, reduce() reduces the iterable to a single value. map() and filter() are used for transformation and selection, respectively, while reduce() is used for accumulation."
   ]
  },
  {
   "cell_type": "markdown",
   "id": "c7d361d9-7efd-4bea-b179-08aeba0a6e38",
   "metadata": {},
   "source": [
    "# Practical Questions:"
   ]
  },
  {
   "cell_type": "markdown",
   "id": "46ed49c8-bf73-432b-9cc2-291a145aa5cf",
   "metadata": {},
   "source": [
    "## Q.(1) Write a Python function that takes a list of numbers as input and returns the sum of all even numbers in the list.t"
   ]
  },
  {
   "cell_type": "code",
   "execution_count": 37,
   "id": "cd32921e-e00b-44d4-b10e-9493231dc448",
   "metadata": {},
   "outputs": [
    {
     "name": "stdout",
     "output_type": "stream",
     "text": [
      "74\n"
     ]
    }
   ],
   "source": [
    "# Ans.(1) \n",
    "def sum_of_even_numbers(numbers):\n",
    "    return sum(num for num in numbers if num % 2 == 0)\n",
    "\n",
    "# Example usage:\n",
    "result = sum_of_even_numbers([47, 11, 42, 13, 8, 24])\n",
    "print(result)  \n"
   ]
  },
  {
   "cell_type": "markdown",
   "id": "cb58d454-c277-4250-9964-15e0843d01ea",
   "metadata": {},
   "source": [
    "## Q.(2)  Create a Python function that accepts a string and returns the reverse of that string."
   ]
  },
  {
   "cell_type": "code",
   "execution_count": 51,
   "id": "32290a6a-b814-4876-8c8b-c44ed4077e63",
   "metadata": {},
   "outputs": [
    {
     "name": "stdout",
     "output_type": "stream",
     "text": [
      "olleh\n"
     ]
    }
   ],
   "source": [
    "# Ans.(2) \n",
    "def reverse_string(s):\n",
    "    return s[::-1]\n",
    "\n",
    "# Example usage:\n",
    "result = reverse_string(\"hello\")\n",
    "print(result)  \n"
   ]
  },
  {
   "cell_type": "markdown",
   "id": "39ab2c1b-e7c4-4591-8f96-f558c0ab93e9",
   "metadata": {},
   "source": [
    "## Q.(3)  Implement a Python function that takes a list of integers and returns a new list containing the squares of each number.r"
   ]
  },
  {
   "cell_type": "code",
   "execution_count": 54,
   "id": "79eb6266-17f5-4af3-9363-d7f217c5bea8",
   "metadata": {},
   "outputs": [
    {
     "name": "stdout",
     "output_type": "stream",
     "text": [
      "[1, 4, 9, 16]\n"
     ]
    }
   ],
   "source": [
    "# Ans.(3)\n",
    "def square_numbers(numbers):\n",
    "    return [num ** 2 for num in numbers]\n",
    "\n",
    "# Example usage:\n",
    "result = square_numbers([1, 2, 3, 4])\n",
    "print(result)  \n"
   ]
  },
  {
   "cell_type": "markdown",
   "id": "aaf93207-f52b-4c41-9d0b-321325a95c57",
   "metadata": {},
   "source": [
    "## Q.(4)  Write a Python function that checks if a given number is prime or not from 1 to 200."
   ]
  },
  {
   "cell_type": "code",
   "execution_count": 57,
   "id": "4b2590e3-0984-4a31-8ad6-cf1f3c74445a",
   "metadata": {},
   "outputs": [
    {
     "name": "stdout",
     "output_type": "stream",
     "text": [
      "[2, 3, 5, 7, 11, 13, 17, 19, 23, 29, 31, 37, 41, 43, 47, 53, 59, 61, 67, 71, 73, 79, 83, 89, 97, 101, 103, 107, 109, 113, 127, 131, 137, 139, 149, 151, 157, 163, 167, 173, 179, 181, 191, 193, 197, 199]\n"
     ]
    }
   ],
   "source": [
    "# Ans.(4) \n",
    "def is_prime(n):\n",
    "    if n <= 1:\n",
    "        return False\n",
    "    for i in range(2, int(n**0.5) + 1):\n",
    "        if n % i == 0:\n",
    "            return False\n",
    "    return True\n",
    "\n",
    "# Check primes from 1 to 200\n",
    "prime_numbers = [num for num in range(1, 201) if is_prime(num)]\n",
    "print(prime_numbers)\n"
   ]
  },
  {
   "cell_type": "markdown",
   "id": "fdde5c04-2a45-4235-99b5-f1417773caad",
   "metadata": {},
   "source": [
    "## Q.(5) . Create an iterator class in Python that generates the Fibonacci sequence up to a specified number of terms.."
   ]
  },
  {
   "cell_type": "code",
   "execution_count": 60,
   "id": "ff45f53f-1e03-4778-a4c4-eb982802c66d",
   "metadata": {},
   "outputs": [
    {
     "name": "stdout",
     "output_type": "stream",
     "text": [
      "0\n",
      "1\n",
      "1\n",
      "2\n",
      "3\n",
      "5\n",
      "8\n",
      "13\n",
      "21\n",
      "34\n"
     ]
    }
   ],
   "source": [
    "# Ans(5)\n",
    "class FibonacciIterator:\n",
    "    def __init__(self, n):\n",
    "        self.n = n  # Number of terms in the Fibonacci sequence\n",
    "        self.a, self.b = 0, 1  # First two terms of Fibonacci sequence\n",
    "        self.count = 0  # Counter for the number of terms generated\n",
    "\n",
    "    def __iter__(self):\n",
    "        return self\n",
    "\n",
    "    def __next__(self):\n",
    "        if self.count < self.n:\n",
    "            fib_num = self.a\n",
    "            self.a, self.b = self.b, self.a + self.b  # Update to next Fibonacci numbers\n",
    "            self.count += 1\n",
    "            return fib_num\n",
    "        else:\n",
    "            raise StopIteration  # Stop iteration after n terms\n",
    "\n",
    "# Example usage:\n",
    "fib = FibonacciIterator(10)  # Generate first 10 Fibonacci numbers\n",
    "for num in fib:\n",
    "    print(num)\n",
    "\n"
   ]
  },
  {
   "cell_type": "markdown",
   "id": "b15fc400-6fb6-4532-ba8b-022ab778e6d4",
   "metadata": {},
   "source": [
    "## Q.(6)  Write a generator function in Python that yields the powers of 2 up to a given exponent."
   ]
  },
  {
   "cell_type": "code",
   "execution_count": 63,
   "id": "3d65f117-f1e6-4c21-8d79-d66d26161ae1",
   "metadata": {},
   "outputs": [
    {
     "name": "stdout",
     "output_type": "stream",
     "text": [
      "1\n",
      "2\n",
      "4\n",
      "8\n",
      "16\n",
      "32\n"
     ]
    }
   ],
   "source": [
    "# Ans.(6)\n",
    "def powers_of_two(exponent):\n",
    "    for i in range(exponent + 1):\n",
    "        yield 2 ** i\n",
    "\n",
    "# Example usage:\n",
    "for power in powers_of_two(5):\n",
    "    print(power)\n"
   ]
  },
  {
   "cell_type": "markdown",
   "id": "a1b43be0-1e4b-46e2-8af2-a229c43ee899",
   "metadata": {},
   "source": [
    "## Q.(7)  Implement a generator function that reads a file line by line and yields each line as a string."
   ]
  },
  {
   "cell_type": "code",
   "execution_count": null,
   "id": "b17960b6-bbec-47e7-8d54-7f78be34b988",
   "metadata": {},
   "outputs": [],
   "source": [
    "# Ans.(7) \n",
    "def read_lines(file_name):\n",
    "    with open(file_name, 'r') as file:\n",
    "        for line in file:\n",
    "            yield line.strip()  # Yields each line after removing trailing newline characters\n",
    "\n",
    "# Example usage:\n",
    "for line in read_lines('example.txt'):\n",
    "    print(line)\n"
   ]
  },
  {
   "cell_type": "markdown",
   "id": "62d36fe8-d0c6-44cc-b448-e0966db21fc0",
   "metadata": {},
   "source": [
    "## Q.(8)  Use a lambda function in Python to sort a list of tuples based on the second element of each tuple."
   ]
  },
  {
   "cell_type": "code",
   "execution_count": 71,
   "id": "47e5bffd-292c-42fb-bee9-a0b4ceb86ada",
   "metadata": {},
   "outputs": [
    {
     "name": "stdout",
     "output_type": "stream",
     "text": [
      "[(5, 0), (4, 1), (2, 2), (1, 3)]\n"
     ]
    }
   ],
   "source": [
    "# Ans.(8)\n",
    "# List of tuples\n",
    "tuples_list = [(1, 3), (4, 1), (2, 2), (5, 0)]\n",
    "\n",
    "# Sorting using lambda function based on the second element of each tuple\n",
    "sorted_list = sorted(tuples_list, key=lambda x: x[1])\n",
    "\n",
    "# Output the sorted list\n",
    "print(sorted_list)\n"
   ]
  },
  {
   "cell_type": "markdown",
   "id": "d20d8fb2-1da7-4b54-abfd-2935ad4c203b",
   "metadata": {},
   "source": [
    "## Q.(9)  Write a Python program that uses `map()` to convert a list of temperatures from Celsius to Fahrenheit."
   ]
  },
  {
   "cell_type": "code",
   "execution_count": 74,
   "id": "f7d1fb8e-ba6d-41d4-b39b-7d2cb3d9b944",
   "metadata": {},
   "outputs": [
    {
     "name": "stdout",
     "output_type": "stream",
     "text": [
      "[32.0, 68.0, 98.6, 212.0, 14.0]\n"
     ]
    }
   ],
   "source": [
    "# Ans.(9)\n",
    "# List of temperatures in Celsius\n",
    "celsius_temperatures = [0, 20, 37, 100, -10]\n",
    "\n",
    "# Function to convert Celsius to Fahrenheit\n",
    "def celsius_to_fahrenheit(celsius):\n",
    "    return (celsius * 9/5) + 32\n",
    "\n",
    "# Using map to apply the conversion function to each element\n",
    "fahrenheit_temperatures = list(map(celsius_to_fahrenheit, celsius_temperatures))\n",
    "\n",
    "# Output the converted temperatures\n",
    "print(fahrenheit_temperatures)\n"
   ]
  },
  {
   "cell_type": "markdown",
   "id": "ad25019b-921c-4498-a0b7-75a564f0e9d0",
   "metadata": {},
   "source": [
    "## Q.(10)  Create a Python program that uses `filter()` to remove all the vowels from a given string."
   ]
  },
  {
   "cell_type": "code",
   "execution_count": 77,
   "id": "4e8c7f87-3532-46a8-833b-6c0342f5b8b1",
   "metadata": {},
   "outputs": [
    {
     "name": "stdout",
     "output_type": "stream",
     "text": [
      "Hll Wrld\n"
     ]
    }
   ],
   "source": [
    "# Ans.(10)\n",
    "# Function to check if a character is not a vowel\n",
    "def is_not_vowel(char):\n",
    "    return char.lower() not in 'aeiou'\n",
    "\n",
    "# Given string\n",
    "input_string = \"Hello World\"\n",
    "\n",
    "# Using filter to remove vowels\n",
    "filtered_string = ''.join(filter(is_not_vowel, input_string))\n",
    "\n",
    "# Output the string with vowels removed\n",
    "print(filtered_string)\n"
   ]
  },
  {
   "cell_type": "code",
   "execution_count": null,
   "id": "eaad2a14-6bbd-45da-a053-8d5a8e5b51a9",
   "metadata": {},
   "outputs": [],
   "source": []
  }
 ],
 "metadata": {
  "kernelspec": {
   "display_name": "Python 3 (ipykernel)",
   "language": "python",
   "name": "python3"
  },
  "language_info": {
   "codemirror_mode": {
    "name": "ipython",
    "version": 3
   },
   "file_extension": ".py",
   "mimetype": "text/x-python",
   "name": "python",
   "nbconvert_exporter": "python",
   "pygments_lexer": "ipython3",
   "version": "3.12.4"
  }
 },
 "nbformat": 4,
 "nbformat_minor": 5
}
